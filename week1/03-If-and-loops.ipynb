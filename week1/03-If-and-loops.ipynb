{
 "cells": [
  {
   "cell_type": "markdown",
   "metadata": {},
   "source": [
    "In order to write complex programs, we need some logic.\n",
    "\n",
    "If you think about programs like recipes, you'll think of conditional statements and loops. Here some examples:\n",
    "* Stir the mixture until it thickens.\n",
    "* Bake at 425 degrees for 11-13 minutes, or at 400 degrees for 15-17 for a crispier crust.\n",
    "* Cook on low for 8 hours, or on high for 3.5 hours.\n",
    "* Add the peppers once the onions are translucent.\n",
    "* Whip the eggs and sugar until they have stiff peaks.\n",
    "\n",
    "#If Statements"
   ]
  },
  {
   "cell_type": "markdown",
   "metadata": {},
   "source": [
    "This will print a link depending on your age.  Remember only the if is required.  The elif and else are optional and can be used together or separately"
   ]
  },
  {
   "cell_type": "code",
   "execution_count": 4,
   "metadata": {
    "collapsed": false
   },
   "outputs": [
    {
     "name": "stdout",
     "output_type": "stream",
     "text": [
      "You are so close but no\n"
     ]
    }
   ],
   "source": [
    "age = 16\n",
    "if age >= 18:\n",
    "    print(\"Welcome to class\")\n",
    "elif age < 18 and age > 15: #and requires that both statements be true in order to evaluate the entire thing to True\n",
    "    print(\"You are so close but no\")\n",
    "else:\n",
    "    print(\"You are too young...sorry\")"
   ]
  },
  {
   "cell_type": "markdown",
   "metadata": {},
   "source": [
    "Be careful of logic issues.  This block of code will always catch in the elif because of the **or**"
   ]
  },
  {
   "cell_type": "code",
   "execution_count": 16,
   "metadata": {
    "collapsed": false
   },
   "outputs": [
    {
     "name": "stdout",
     "output_type": "stream",
     "text": [
      "You are so close but no\n"
     ]
    }
   ],
   "source": [
    "age = 12\n",
    "if age >= 18:\n",
    "    print(\"Welcome to class\")\n",
    "elif age < 18 or age > 15:\n",
    "    print(\"You are so close but no\")\n",
    "else:\n",
    "    print(\"You are too young...sorry\")"
   ]
  },
  {
   "cell_type": "markdown",
   "metadata": {},
   "source": [
    "We can use more complicated logic with multiple statements and even group them with ()"
   ]
  },
  {
   "cell_type": "code",
   "execution_count": 11,
   "metadata": {
    "collapsed": false
   },
   "outputs": [
    {
     "name": "stdout",
     "output_type": "stream",
     "text": [
      "Welcome aboard\n"
     ]
    }
   ],
   "source": [
    "gender = \"F\"\n",
    "age = 19\n",
    "if (age > 18 and gender == 'F') or (age > 21 and gender == 'M'):\n",
    "    print(\"Welcome aboard\")"
   ]
  },
  {
   "cell_type": "markdown",
   "metadata": {},
   "source": [
    "# While Loops"
   ]
  },
  {
   "cell_type": "markdown",
   "metadata": {},
   "source": [
    "These will loop until the condition becomes false."
   ]
  },
  {
   "cell_type": "code",
   "execution_count": 12,
   "metadata": {
    "collapsed": false
   },
   "outputs": [
    {
     "name": "stdout",
     "output_type": "stream",
     "text": [
      "101\n"
     ]
    }
   ],
   "source": [
    "keep_going = True\n",
    "cumulative = 0\n",
    "while keep_going:\n",
    "    cumulative += 1\n",
    "    if cumulative > 100:\n",
    "        keep_going = False\n",
    "\n",
    "print(cumulative)"
   ]
  },
  {
   "cell_type": "markdown",
   "metadata": {},
   "source": [
    "Basic loop 100 times while loop"
   ]
  },
  {
   "cell_type": "code",
   "execution_count": 14,
   "metadata": {
    "collapsed": false
   },
   "outputs": [
    {
     "name": "stdout",
     "output_type": "stream",
     "text": [
      "10000\n"
     ]
    }
   ],
   "source": [
    "counter = 0\n",
    "cumulative = 0\n",
    "\n",
    "while counter < 100:\n",
    "    cumulative += 100\n",
    "    counter += 1\n",
    "    \n",
    "print(cumulative)"
   ]
  },
  {
   "cell_type": "markdown",
   "metadata": {},
   "source": [
    "**break** will smash out of the loop it is in but stay in any outer loops"
   ]
  },
  {
   "cell_type": "code",
   "execution_count": null,
   "metadata": {
    "collapsed": false
   },
   "outputs": [],
   "source": [
    "keep_going = True\n",
    "while keep_going:\n",
    "    print(\"Enter keep going\")\n",
    "    while True:\n",
    "        value = input(\"Tell me something\")\n",
    "        if value == \"exit\":\n",
    "            break\n",
    "        foo = \"bar\"\n",
    "    print(\"End of outer loop\")\n",
    "    \n",
    "print(\"end of program\")"
   ]
  },
  {
   "cell_type": "code",
   "execution_count": null,
   "metadata": {
    "collapsed": true
   },
   "outputs": [],
   "source": []
  }
 ],
 "metadata": {
  "kernelspec": {
   "display_name": "Python 3",
   "language": "python",
   "name": "python3"
  },
  "language_info": {
   "codemirror_mode": {
    "name": "ipython",
    "version": 3
   },
   "file_extension": ".py",
   "mimetype": "text/x-python",
   "name": "python",
   "nbconvert_exporter": "python",
   "pygments_lexer": "ipython3",
   "version": "3.4.3"
  }
 },
 "nbformat": 4,
 "nbformat_minor": 0
}
